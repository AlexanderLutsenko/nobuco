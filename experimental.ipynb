{
 "cells": [
  {
   "cell_type": "markdown",
   "metadata": {},
   "source": [
    "## Target Function Extraction"
   ]
  },
  {
   "cell_type": "markdown",
   "metadata": {},
   "source": [
    "### Implementation1"
   ]
  },
  {
   "cell_type": "code",
   "execution_count": 22,
   "metadata": {},
   "outputs": [],
   "source": [
    "import re\n",
    "from pprint import pprint\n",
    "\n",
    "def extract_between(text, start, end, extend=False, multiple=False):\n",
    "    target = r'(.*)' if extend else r'(.*?)'\n",
    "    pattern = re.escape(start) + target + re.escape(end)\n",
    "    matches = re.findall(pattern, text)\n",
    "\n",
    "    if multiple:\n",
    "        results = []\n",
    "        for match in matches:\n",
    "            results.append(match.strip())\n",
    "        return results\n",
    "    else:\n",
    "        # Return the first match if available, else None\n",
    "        return matches[0].strip() if matches else None\n",
    "\n",
    "# Example usage\n",
    "text = \"\"\"\n",
    "@converter(torch.sin, torch.Tensor.sin, channel_ordering_strategy=ChannelOrderingStrategy.MINIMUM_TRANSPOSITIONS)\n",
    "def converter_sin(input, *args, **kwargs):\n",
    "    def func(input, *args, **kwargs):\n",
    "        return tf.math.sin(input)\n",
    "    return func\n",
    "\n",
    "\n",
    "@converter(torch.cos, torch.Tensor.cos, channel_ordering_strategy=ChannelOrderingStrategy.MINIMUM_TRANSPOSITIONS)\n",
    "def converter_cos(input, *args, **kwargs):\n",
    "    def func(input, *args, **kwargs):\n",
    "        return tf.math.cos(input)\n",
    "    return func\n",
    "\n",
    "\n",
    "@converter(torch.add, torch.Tensor.add, torch.Tensor.add_, torch.Tensor.__add__, torch.Tensor.__iadd__, torch.Tensor.__radd__, channel_ordering_strategy=ChannelOrderingStrategy.MINIMUM_TRANSPOSITIONS_OR_PYTORCH, autocast=True)\n",
    "def converter_add(input, other, *args, **kwargs):\n",
    "    def func(input, other, *args, **kwargs):\n",
    "        return input + other\n",
    "    return func\n",
    "\"\"\"\n"
   ]
  },
  {
   "cell_type": "markdown",
   "metadata": {},
   "source": [
    "### Tests"
   ]
  },
  {
   "cell_type": "markdown",
   "metadata": {},
   "source": [
    "#### end = ', channel_ordering_strategy'\n",
    "\n",
    "It makes the `extend` argument useless, but free from the additional arguments to the target functions."
   ]
  },
  {
   "cell_type": "code",
   "execution_count": 23,
   "metadata": {},
   "outputs": [
    {
     "name": "stdout",
     "output_type": "stream",
     "text": [
      "extend: True multiple:  True\n",
      "['torch.sin, torch.Tensor.sin',\n",
      " 'torch.cos, torch.Tensor.cos',\n",
      " 'torch.add, torch.Tensor.add, torch.Tensor.add_, torch.Tensor.__add__, '\n",
      " 'torch.Tensor.__iadd__, torch.Tensor.__radd__']\n",
      "\n",
      "\n",
      "extend: True multiple:  False\n",
      "'torch.sin, torch.Tensor.sin'\n",
      "\n",
      "\n",
      "extend: False multiple:  True\n",
      "['torch.sin, torch.Tensor.sin',\n",
      " 'torch.cos, torch.Tensor.cos',\n",
      " 'torch.add, torch.Tensor.add, torch.Tensor.add_, torch.Tensor.__add__, '\n",
      " 'torch.Tensor.__iadd__, torch.Tensor.__radd__']\n",
      "\n",
      "\n",
      "extend: False multiple:  False\n",
      "'torch.sin, torch.Tensor.sin'\n",
      "\n",
      "\n"
     ]
    }
   ],
   "source": [
    "# Test the function\n",
    "start = '@converter('\n",
    "end = ', channel_ordering_strategy'\n",
    "\n",
    "bools = [True, False]\n",
    "\n",
    "for _bool_ex in bools:\n",
    "\textend = _bool_ex\n",
    "\tfor _bool_mul in bools:\n",
    "\t\tmultiple = _bool_mul  \n",
    "\t\tprint(\"extend:\", str(_bool_ex), \"multiple: \", str(_bool_mul))\n",
    "\t\tpprint(extract_between(text, start, end, extend=extend, multiple=multiple))\n",
    "\t\tprint(\"\\n\")\n"
   ]
  },
  {
   "cell_type": "markdown",
   "metadata": {},
   "source": [
    "#### end = ','\n",
    "\n",
    "It makes the `extend` argument functional, but it can include non-target results."
   ]
  },
  {
   "cell_type": "code",
   "execution_count": 24,
   "metadata": {},
   "outputs": [
    {
     "name": "stdout",
     "output_type": "stream",
     "text": [
      "extend: True multiple:  True\n",
      "['torch.sin, torch.Tensor.sin',\n",
      " 'torch.cos, torch.Tensor.cos',\n",
      " 'torch.add, torch.Tensor.add, torch.Tensor.add_, torch.Tensor.__add__, '\n",
      " 'torch.Tensor.__iadd__, torch.Tensor.__radd__, '\n",
      " 'channel_ordering_strategy=ChannelOrderingStrategy.MINIMUM_TRANSPOSITIONS_OR_PYTORCH']\n",
      "\n",
      "\n",
      "extend: True multiple:  False\n",
      "'torch.sin, torch.Tensor.sin'\n",
      "\n",
      "\n",
      "extend: False multiple:  True\n",
      "['torch.sin', 'torch.cos', 'torch.add']\n",
      "\n",
      "\n",
      "extend: False multiple:  False\n",
      "'torch.sin'\n",
      "\n",
      "\n"
     ]
    }
   ],
   "source": [
    "# Test the function\n",
    "start = '@converter('\n",
    "end = ','\n",
    "\n",
    "bools = [True, False]\n",
    "\n",
    "for _bool_ex in bools:\n",
    "\textend = _bool_ex\n",
    "\tfor _bool_mul in bools:\n",
    "\t\tmultiple = _bool_mul  \n",
    "\t\tprint(\"extend:\", str(_bool_ex), \"multiple: \", str(_bool_mul))\n",
    "\t\tpprint(extract_between(text, start, end, extend=extend, multiple=multiple))\n",
    "\t\tprint(\"\\n\")"
   ]
  },
  {
   "cell_type": "markdown",
   "metadata": {},
   "source": [
    "## Implementation2\n",
    "\n",
    "- discard `extend` argument\n",
    "- use out[0] for single output instead\n",
    "- split each result as `list(str)`\n"
   ]
  },
  {
   "cell_type": "code",
   "execution_count": 42,
   "metadata": {},
   "outputs": [],
   "source": [
    "import re\n",
    "\n",
    "def extract_between(text, start, end, multiple=False):\n",
    "    target = r'(.*?)'\n",
    "    pattern = re.escape(start) + target + re.escape(end)\n",
    "    matches = re.findall(pattern, text)\n",
    "\n",
    "    if multiple:\n",
    "        results = []\n",
    "        for match in matches:\n",
    "            results.append([item.strip() for item in match.strip().split(',')])\n",
    "        return results\n",
    "    else:\n",
    "        if matches:\n",
    "            return [item.strip() for item in matches[0].strip().split(',')]\n",
    "        else:\n",
    "            return None"
   ]
  },
  {
   "cell_type": "code",
   "execution_count": 43,
   "metadata": {},
   "outputs": [
    {
     "name": "stdout",
     "output_type": "stream",
     "text": [
      "multiple:  True\n",
      "[['torch.sin', 'torch.Tensor.sin'],\n",
      " ['torch.cos', 'torch.Tensor.cos'],\n",
      " ['torch.add',\n",
      "  'torch.Tensor.add',\n",
      "  'torch.Tensor.add_',\n",
      "  'torch.Tensor.__add__',\n",
      "  'torch.Tensor.__iadd__',\n",
      "  'torch.Tensor.__radd__']]\n",
      "\n",
      "\n",
      "multiple:  False\n",
      "['torch.sin', 'torch.Tensor.sin']\n",
      "\n",
      "\n"
     ]
    }
   ],
   "source": [
    "# Test the function\n",
    "start = '@converter('\n",
    "end = ', channel_ordering_strategy'\n",
    "\n",
    "bools = [True, False]\n",
    "\n",
    "for _bool_mul in bools:\n",
    "\tmultiple = _bool_mul  \n",
    "\tprint(\"multiple: \", str(_bool_mul))\n",
    "\tpprint(extract_between(text, start, end, multiple=multiple))\n",
    "\tprint(\"\\n\")\n"
   ]
  },
  {
   "cell_type": "markdown",
   "metadata": {},
   "source": [
    "## `__doc__` Extration"
   ]
  },
  {
   "cell_type": "code",
   "execution_count": 44,
   "metadata": {},
   "outputs": [],
   "source": [
    "# Example usage\n",
    "text = \"\"\"\n",
    "@converter(torch.sin, torch.Tensor.sin, channel_ordering_strategy=ChannelOrderingStrategy.MINIMUM_TRANSPOSITIONS)\n",
    "def converter_sin(input, *args, **kwargs):\n",
    "    def func(input, *args, **kwargs):\n",
    "        return tf.math.sin(input)\n",
    "    return func\n",
    "\n",
    "\n",
    "@converter(torch.cos, torch.Tensor.cos, channel_ordering_strategy=ChannelOrderingStrategy.MINIMUM_TRANSPOSITIONS)\n",
    "def converter_cos(input, *args, **kwargs):\n",
    "    def func(input, *args, **kwargs):\n",
    "        return tf.math.cos(input)\n",
    "    return func\n",
    "\n",
    "\n",
    "@converter(torch.add, torch.Tensor.add, torch.Tensor.add_, torch.Tensor.__add__, torch.Tensor.__iadd__, torch.Tensor.__radd__, channel_ordering_strategy=ChannelOrderingStrategy.MINIMUM_TRANSPOSITIONS_OR_PYTORCH, autocast=True)\n",
    "def converter_add(input, other, *args, **kwargs):\n",
    "    def func(input, other, *args, **kwargs):\n",
    "        return input + other\n",
    "    return func\n",
    "\n",
    "@converter(nn.Linear, channel_ordering_strategy=ChannelOrderingStrategy.FORCE_PYTORCH_ORDER)\n",
    "def converter_Linear(self, input: Tensor):\n",
    "    out_filters, in_filters = self.weight.shape\n",
    "    weights = self.weight.cpu().detach().numpy()\n",
    "    weights = weights.transpose(1, 0)\n",
    "\n",
    "    use_bias = self.bias is not None\n",
    "    if use_bias:\n",
    "        biases = self.bias.cpu().detach().numpy()\n",
    "        params = [weights, biases]\n",
    "    else:\n",
    "        params = [weights]\n",
    "    return keras.layers.Dense(out_filters, use_bias=use_bias, weights=params)\n",
    "\"\"\""
   ]
  },
  {
   "cell_type": "markdown",
   "metadata": {},
   "source": [
    "### Implementation1"
   ]
  },
  {
   "cell_type": "code",
   "execution_count": 46,
   "metadata": {},
   "outputs": [
    {
     "data": {
      "text/plain": [
       "[['torch.sin', 'torch.Tensor.sin'],\n",
       " ['torch.cos', 'torch.Tensor.cos'],\n",
       " ['torch.add',\n",
       "  'torch.Tensor.add',\n",
       "  'torch.Tensor.add_',\n",
       "  'torch.Tensor.__add__',\n",
       "  'torch.Tensor.__iadd__',\n",
       "  'torch.Tensor.__radd__'],\n",
       " ['nn.Linear']]"
      ]
     },
     "execution_count": 46,
     "metadata": {},
     "output_type": "execute_result"
    }
   ],
   "source": [
    "targets = extract_between(text, start, end, multiple=True)\n",
    "targets"
   ]
  },
  {
   "cell_type": "code",
   "execution_count": null,
   "metadata": {},
   "outputs": [],
   "source": []
  }
 ],
 "metadata": {
  "language_info": {
   "name": "python"
  }
 },
 "nbformat": 4,
 "nbformat_minor": 2
}
